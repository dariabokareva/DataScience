{
  "cells": [
    {
      "cell_type": "markdown",
      "metadata": {
        "id": "view-in-github",
        "colab_type": "text"
      },
      "source": [
        "<a href=\"https://colab.research.google.com/github/dariabokareva/datascience/blob/master/neural-networks/regression/regression_boston_example.ipynb\" target=\"_parent\"><img src=\"https://colab.research.google.com/assets/colab-badge.svg\" alt=\"Open In Colab\"/></a>"
      ]
    },
    {
      "cell_type": "markdown",
      "source": [
        "# Применение нейронной сети для решения задачи регрессии: предсказания стоимости недвижимости в Бостоне."
      ],
      "metadata": {
        "id": "btN8k3CeRrKR"
      }
    },
    {
      "cell_type": "code",
      "execution_count": 1,
      "metadata": {
        "id": "rsByhMSAQG_g"
      },
      "outputs": [],
      "source": [
        "from keras.datasets import boston_housing\n",
        "from keras.models import Sequential\n",
        "from keras.layers import Dense"
      ]
    },
    {
      "cell_type": "markdown",
      "metadata": {
        "id": "H8tXiM_6QG_z"
      },
      "source": [
        "# Загрузка набора данных"
      ]
    },
    {
      "cell_type": "code",
      "execution_count": 2,
      "metadata": {
        "colab": {
          "base_uri": "https://localhost:8080/"
        },
        "id": "dyafep56QG_5",
        "outputId": "0ef4c38a-6755-404d-e6bb-8fe2869e775e"
      },
      "outputs": [
        {
          "output_type": "stream",
          "name": "stdout",
          "text": [
            "Downloading data from https://storage.googleapis.com/tensorflow/tf-keras-datasets/boston_housing.npz\n",
            "57344/57026 [==============================] - 0s 0us/step\n",
            "65536/57026 [==================================] - 0s 0us/step\n"
          ]
        }
      ],
      "source": [
        "(x_train, y_train), (x_test, y_test) = boston_housing.load_data()"
      ]
    },
    {
      "cell_type": "markdown",
      "metadata": {
        "id": "n1Z_YfyeQG_7"
      },
      "source": [
        "# Нормализация данных\n",
        "\n",
        "Вычитаем среднее значение и делим на стандартное отклонение"
      ]
    },
    {
      "cell_type": "code",
      "execution_count": 4,
      "metadata": {
        "collapsed": true,
        "id": "gpaf601GQG_9"
      },
      "outputs": [],
      "source": [
        "# Среднее значение\n",
        "mean = x_train.mean(axis=0) # axis=0 - для каждого признака отдельно\n",
        "# Стандартное отклонение\n",
        "std = x_train.std(axis=0)\n",
        "x_train -= mean\n",
        "x_train /= std\n",
        "x_test -= mean\n",
        "x_test /= std"
      ]
    },
    {
      "cell_type": "markdown",
      "metadata": {
        "id": "ekwfcDvAQHAC"
      },
      "source": [
        "# Создаем сеть\n",
        "\n",
        "Выходной слой с одним линейным нейроном - для задачи регрессии функция активации не используется.\n",
        "\n",
        "Функция ошибки - среднеквадратичное отклонение.\n",
        "Метрика - среднее абсолютное отклонение."
      ]
    },
    {
      "cell_type": "code",
      "execution_count": 8,
      "metadata": {
        "collapsed": true,
        "id": "9BVOD_mDQHAE"
      },
      "outputs": [],
      "source": [
        "model = Sequential()\n",
        "model.add(Dense(128, activation='relu', input_shape=(x_train.shape[1],)))\n",
        "model.add(Dense(1))\n",
        "model.compile(optimizer='rmsprop', loss='mse', metrics=['mae']) #adam"
      ]
    },
    {
      "cell_type": "markdown",
      "metadata": {
        "id": "nFhtfIlJQHAF"
      },
      "source": [
        "# Обучение сети"
      ]
    },
    {
      "cell_type": "code",
      "execution_count": 9,
      "metadata": {
        "colab": {
          "base_uri": "https://localhost:8080/"
        },
        "id": "5s-Y0raSQHAG",
        "outputId": "c40cc95e-38d0-4a26-c7b8-0b8b388d9d94"
      },
      "outputs": [
        {
          "output_type": "stream",
          "name": "stdout",
          "text": [
            "Epoch 1/100\n",
            "404/404 - 1s - loss: 328.5991 - mae: 15.3089 - 885ms/epoch - 2ms/step\n",
            "Epoch 2/100\n",
            "404/404 - 0s - loss: 46.3593 - mae: 4.4714 - 497ms/epoch - 1ms/step\n",
            "Epoch 3/100\n",
            "404/404 - 0s - loss: 29.3043 - mae: 3.4742 - 484ms/epoch - 1ms/step\n",
            "Epoch 4/100\n",
            "404/404 - 0s - loss: 24.1411 - mae: 3.2006 - 478ms/epoch - 1ms/step\n",
            "Epoch 5/100\n",
            "404/404 - 0s - loss: 21.0539 - mae: 2.9830 - 476ms/epoch - 1ms/step\n",
            "Epoch 6/100\n",
            "404/404 - 0s - loss: 18.4128 - mae: 2.7904 - 479ms/epoch - 1ms/step\n",
            "Epoch 7/100\n",
            "404/404 - 0s - loss: 16.4889 - mae: 2.6732 - 460ms/epoch - 1ms/step\n",
            "Epoch 8/100\n",
            "404/404 - 0s - loss: 15.3951 - mae: 2.5005 - 488ms/epoch - 1ms/step\n",
            "Epoch 9/100\n",
            "404/404 - 0s - loss: 13.9337 - mae: 2.4212 - 471ms/epoch - 1ms/step\n",
            "Epoch 10/100\n",
            "404/404 - 0s - loss: 13.4175 - mae: 2.3582 - 489ms/epoch - 1ms/step\n",
            "Epoch 11/100\n",
            "404/404 - 0s - loss: 12.4744 - mae: 2.2734 - 473ms/epoch - 1ms/step\n",
            "Epoch 12/100\n",
            "404/404 - 0s - loss: 11.8846 - mae: 2.2411 - 459ms/epoch - 1ms/step\n",
            "Epoch 13/100\n",
            "404/404 - 0s - loss: 11.3680 - mae: 2.1918 - 477ms/epoch - 1ms/step\n",
            "Epoch 14/100\n",
            "404/404 - 0s - loss: 10.9273 - mae: 2.1999 - 465ms/epoch - 1ms/step\n",
            "Epoch 15/100\n",
            "404/404 - 0s - loss: 10.7018 - mae: 2.1497 - 460ms/epoch - 1ms/step\n",
            "Epoch 16/100\n",
            "404/404 - 0s - loss: 10.1606 - mae: 2.1029 - 451ms/epoch - 1ms/step\n",
            "Epoch 17/100\n",
            "404/404 - 0s - loss: 9.9835 - mae: 2.1062 - 461ms/epoch - 1ms/step\n",
            "Epoch 18/100\n",
            "404/404 - 0s - loss: 9.7148 - mae: 2.0871 - 466ms/epoch - 1ms/step\n",
            "Epoch 19/100\n",
            "404/404 - 0s - loss: 9.7263 - mae: 2.1029 - 461ms/epoch - 1ms/step\n",
            "Epoch 20/100\n",
            "404/404 - 0s - loss: 9.7414 - mae: 2.0621 - 470ms/epoch - 1ms/step\n",
            "Epoch 21/100\n",
            "404/404 - 0s - loss: 9.3179 - mae: 2.0485 - 482ms/epoch - 1ms/step\n",
            "Epoch 22/100\n",
            "404/404 - 0s - loss: 9.2367 - mae: 1.9771 - 461ms/epoch - 1ms/step\n",
            "Epoch 23/100\n",
            "404/404 - 0s - loss: 9.1820 - mae: 1.9830 - 471ms/epoch - 1ms/step\n",
            "Epoch 24/100\n",
            "404/404 - 0s - loss: 9.2282 - mae: 1.9965 - 464ms/epoch - 1ms/step\n",
            "Epoch 25/100\n",
            "404/404 - 0s - loss: 9.0595 - mae: 1.9756 - 453ms/epoch - 1ms/step\n",
            "Epoch 26/100\n",
            "404/404 - 0s - loss: 8.7659 - mae: 1.9664 - 475ms/epoch - 1ms/step\n",
            "Epoch 27/100\n",
            "404/404 - 0s - loss: 8.7961 - mae: 1.9095 - 449ms/epoch - 1ms/step\n",
            "Epoch 28/100\n",
            "404/404 - 0s - loss: 8.5938 - mae: 1.8944 - 469ms/epoch - 1ms/step\n",
            "Epoch 29/100\n",
            "404/404 - 0s - loss: 8.6470 - mae: 1.9305 - 470ms/epoch - 1ms/step\n",
            "Epoch 30/100\n",
            "404/404 - 0s - loss: 8.5622 - mae: 1.9119 - 471ms/epoch - 1ms/step\n",
            "Epoch 31/100\n",
            "404/404 - 0s - loss: 8.3782 - mae: 1.8653 - 462ms/epoch - 1ms/step\n",
            "Epoch 32/100\n",
            "404/404 - 0s - loss: 8.1107 - mae: 1.8996 - 473ms/epoch - 1ms/step\n",
            "Epoch 33/100\n",
            "404/404 - 0s - loss: 8.0881 - mae: 1.8768 - 472ms/epoch - 1ms/step\n",
            "Epoch 34/100\n",
            "404/404 - 0s - loss: 7.7674 - mae: 1.8659 - 476ms/epoch - 1ms/step\n",
            "Epoch 35/100\n",
            "404/404 - 0s - loss: 8.0770 - mae: 1.8721 - 457ms/epoch - 1ms/step\n",
            "Epoch 36/100\n",
            "404/404 - 0s - loss: 8.0657 - mae: 1.8233 - 455ms/epoch - 1ms/step\n",
            "Epoch 37/100\n",
            "404/404 - 0s - loss: 7.7348 - mae: 1.8559 - 458ms/epoch - 1ms/step\n",
            "Epoch 38/100\n",
            "404/404 - 0s - loss: 7.7045 - mae: 1.8131 - 471ms/epoch - 1ms/step\n",
            "Epoch 39/100\n",
            "404/404 - 0s - loss: 7.8472 - mae: 1.8304 - 472ms/epoch - 1ms/step\n",
            "Epoch 40/100\n",
            "404/404 - 0s - loss: 7.7873 - mae: 1.8449 - 452ms/epoch - 1ms/step\n",
            "Epoch 41/100\n",
            "404/404 - 1s - loss: 7.8658 - mae: 1.8045 - 511ms/epoch - 1ms/step\n",
            "Epoch 42/100\n",
            "404/404 - 0s - loss: 7.4411 - mae: 1.7888 - 467ms/epoch - 1ms/step\n",
            "Epoch 43/100\n",
            "404/404 - 0s - loss: 7.5626 - mae: 1.7892 - 481ms/epoch - 1ms/step\n",
            "Epoch 44/100\n",
            "404/404 - 0s - loss: 7.2767 - mae: 1.7631 - 481ms/epoch - 1ms/step\n",
            "Epoch 45/100\n",
            "404/404 - 0s - loss: 7.3278 - mae: 1.7544 - 480ms/epoch - 1ms/step\n",
            "Epoch 46/100\n",
            "404/404 - 0s - loss: 7.1441 - mae: 1.7705 - 461ms/epoch - 1ms/step\n",
            "Epoch 47/100\n",
            "404/404 - 0s - loss: 7.3860 - mae: 1.7453 - 470ms/epoch - 1ms/step\n",
            "Epoch 48/100\n",
            "404/404 - 0s - loss: 7.0695 - mae: 1.7552 - 464ms/epoch - 1ms/step\n",
            "Epoch 49/100\n",
            "404/404 - 0s - loss: 7.2466 - mae: 1.7514 - 474ms/epoch - 1ms/step\n",
            "Epoch 50/100\n",
            "404/404 - 0s - loss: 7.0734 - mae: 1.7721 - 458ms/epoch - 1ms/step\n",
            "Epoch 51/100\n",
            "404/404 - 0s - loss: 7.1845 - mae: 1.7083 - 460ms/epoch - 1ms/step\n",
            "Epoch 52/100\n",
            "404/404 - 0s - loss: 6.9368 - mae: 1.7052 - 463ms/epoch - 1ms/step\n",
            "Epoch 53/100\n",
            "404/404 - 0s - loss: 7.0246 - mae: 1.7381 - 452ms/epoch - 1ms/step\n",
            "Epoch 54/100\n",
            "404/404 - 0s - loss: 7.0768 - mae: 1.7203 - 457ms/epoch - 1ms/step\n",
            "Epoch 55/100\n",
            "404/404 - 0s - loss: 6.9398 - mae: 1.7226 - 447ms/epoch - 1ms/step\n",
            "Epoch 56/100\n",
            "404/404 - 0s - loss: 7.0079 - mae: 1.7109 - 455ms/epoch - 1ms/step\n",
            "Epoch 57/100\n",
            "404/404 - 0s - loss: 6.9915 - mae: 1.6917 - 470ms/epoch - 1ms/step\n",
            "Epoch 58/100\n",
            "404/404 - 0s - loss: 6.6895 - mae: 1.7016 - 463ms/epoch - 1ms/step\n",
            "Epoch 59/100\n",
            "404/404 - 0s - loss: 7.0423 - mae: 1.6889 - 463ms/epoch - 1ms/step\n",
            "Epoch 60/100\n",
            "404/404 - 0s - loss: 6.7447 - mae: 1.7122 - 475ms/epoch - 1ms/step\n",
            "Epoch 61/100\n",
            "404/404 - 0s - loss: 6.5781 - mae: 1.6782 - 469ms/epoch - 1ms/step\n",
            "Epoch 62/100\n",
            "404/404 - 0s - loss: 6.5691 - mae: 1.6879 - 457ms/epoch - 1ms/step\n",
            "Epoch 63/100\n",
            "404/404 - 0s - loss: 6.4067 - mae: 1.6653 - 465ms/epoch - 1ms/step\n",
            "Epoch 64/100\n",
            "404/404 - 0s - loss: 6.7132 - mae: 1.6715 - 480ms/epoch - 1ms/step\n",
            "Epoch 65/100\n",
            "404/404 - 0s - loss: 6.6024 - mae: 1.6810 - 461ms/epoch - 1ms/step\n",
            "Epoch 66/100\n",
            "404/404 - 0s - loss: 6.6030 - mae: 1.6557 - 455ms/epoch - 1ms/step\n",
            "Epoch 67/100\n",
            "404/404 - 0s - loss: 6.2542 - mae: 1.6926 - 472ms/epoch - 1ms/step\n",
            "Epoch 68/100\n",
            "404/404 - 0s - loss: 6.4586 - mae: 1.6541 - 456ms/epoch - 1ms/step\n",
            "Epoch 69/100\n",
            "404/404 - 0s - loss: 6.3719 - mae: 1.6529 - 476ms/epoch - 1ms/step\n",
            "Epoch 70/100\n",
            "404/404 - 0s - loss: 6.4150 - mae: 1.6386 - 445ms/epoch - 1ms/step\n",
            "Epoch 71/100\n",
            "404/404 - 0s - loss: 6.2768 - mae: 1.6347 - 463ms/epoch - 1ms/step\n",
            "Epoch 72/100\n",
            "404/404 - 0s - loss: 6.6015 - mae: 1.6572 - 460ms/epoch - 1ms/step\n",
            "Epoch 73/100\n",
            "404/404 - 0s - loss: 6.3847 - mae: 1.6528 - 463ms/epoch - 1ms/step\n",
            "Epoch 74/100\n",
            "404/404 - 0s - loss: 6.3374 - mae: 1.6148 - 443ms/epoch - 1ms/step\n",
            "Epoch 75/100\n",
            "404/404 - 0s - loss: 6.3233 - mae: 1.6274 - 458ms/epoch - 1ms/step\n",
            "Epoch 76/100\n",
            "404/404 - 0s - loss: 6.1575 - mae: 1.6296 - 480ms/epoch - 1ms/step\n",
            "Epoch 77/100\n",
            "404/404 - 0s - loss: 6.2317 - mae: 1.5841 - 454ms/epoch - 1ms/step\n",
            "Epoch 78/100\n",
            "404/404 - 0s - loss: 6.1942 - mae: 1.5859 - 461ms/epoch - 1ms/step\n",
            "Epoch 79/100\n",
            "404/404 - 0s - loss: 5.9787 - mae: 1.5721 - 466ms/epoch - 1ms/step\n",
            "Epoch 80/100\n",
            "404/404 - 0s - loss: 6.1809 - mae: 1.5998 - 481ms/epoch - 1ms/step\n",
            "Epoch 81/100\n",
            "404/404 - 0s - loss: 6.2981 - mae: 1.6269 - 446ms/epoch - 1ms/step\n",
            "Epoch 82/100\n",
            "404/404 - 0s - loss: 6.1757 - mae: 1.6298 - 470ms/epoch - 1ms/step\n",
            "Epoch 83/100\n",
            "404/404 - 0s - loss: 5.9928 - mae: 1.5804 - 454ms/epoch - 1ms/step\n",
            "Epoch 84/100\n",
            "404/404 - 0s - loss: 5.8904 - mae: 1.6036 - 482ms/epoch - 1ms/step\n",
            "Epoch 85/100\n",
            "404/404 - 0s - loss: 6.1611 - mae: 1.6167 - 464ms/epoch - 1ms/step\n",
            "Epoch 86/100\n",
            "404/404 - 0s - loss: 6.1019 - mae: 1.5779 - 458ms/epoch - 1ms/step\n",
            "Epoch 87/100\n",
            "404/404 - 0s - loss: 5.9792 - mae: 1.5768 - 485ms/epoch - 1ms/step\n",
            "Epoch 88/100\n",
            "404/404 - 0s - loss: 5.7708 - mae: 1.5655 - 472ms/epoch - 1ms/step\n",
            "Epoch 89/100\n",
            "404/404 - 0s - loss: 5.8690 - mae: 1.5844 - 479ms/epoch - 1ms/step\n",
            "Epoch 90/100\n",
            "404/404 - 0s - loss: 5.9136 - mae: 1.5746 - 487ms/epoch - 1ms/step\n",
            "Epoch 91/100\n",
            "404/404 - 0s - loss: 5.9591 - mae: 1.5545 - 499ms/epoch - 1ms/step\n",
            "Epoch 92/100\n",
            "404/404 - 0s - loss: 5.8760 - mae: 1.5710 - 480ms/epoch - 1ms/step\n",
            "Epoch 93/100\n",
            "404/404 - 0s - loss: 5.7933 - mae: 1.5867 - 498ms/epoch - 1ms/step\n",
            "Epoch 94/100\n",
            "404/404 - 0s - loss: 5.7169 - mae: 1.5737 - 494ms/epoch - 1ms/step\n",
            "Epoch 95/100\n",
            "404/404 - 0s - loss: 5.6464 - mae: 1.5509 - 490ms/epoch - 1ms/step\n",
            "Epoch 96/100\n",
            "404/404 - 0s - loss: 5.7526 - mae: 1.5573 - 459ms/epoch - 1ms/step\n",
            "Epoch 97/100\n",
            "404/404 - 0s - loss: 5.8152 - mae: 1.5823 - 466ms/epoch - 1ms/step\n",
            "Epoch 98/100\n",
            "404/404 - 0s - loss: 5.7887 - mae: 1.5608 - 461ms/epoch - 1ms/step\n",
            "Epoch 99/100\n",
            "404/404 - 0s - loss: 5.6747 - mae: 1.5807 - 483ms/epoch - 1ms/step\n",
            "Epoch 100/100\n",
            "404/404 - 0s - loss: 5.7515 - mae: 1.5636 - 456ms/epoch - 1ms/step\n"
          ]
        },
        {
          "output_type": "execute_result",
          "data": {
            "text/plain": [
              "<keras.callbacks.History at 0x7f305fd74fd0>"
            ]
          },
          "metadata": {},
          "execution_count": 9
        }
      ],
      "source": [
        "model.fit(x_train, y_train, epochs=100, batch_size=1, verbose=2)"
      ]
    },
    {
      "cell_type": "markdown",
      "metadata": {
        "id": "CXGk0lCWQHAI"
      },
      "source": [
        "# Оценка точности работы сети"
      ]
    },
    {
      "cell_type": "code",
      "execution_count": 10,
      "metadata": {
        "collapsed": true,
        "id": "3M94sUFPQHAJ"
      },
      "outputs": [],
      "source": [
        "mse, mae = model.evaluate(x_test, y_test, verbose=0)"
      ]
    },
    {
      "cell_type": "code",
      "execution_count": 11,
      "metadata": {
        "colab": {
          "base_uri": "https://localhost:8080/"
        },
        "id": "Y98Rn-z4QHAK",
        "outputId": "03699584-caf9-406e-8baa-d2313acd9a38"
      },
      "outputs": [
        {
          "output_type": "stream",
          "name": "stdout",
          "text": [
            "Средняя абсолютная ошибка (тысяч долларов): 2.352459669113159\n"
          ]
        }
      ],
      "source": [
        "print(\"Средняя абсолютная ошибка (тысяч долларов):\", mae)"
      ]
    },
    {
      "cell_type": "markdown",
      "metadata": {
        "id": "qGLyPwzEQHAL"
      },
      "source": [
        "# Использование сети для предсказания цен недвижимости"
      ]
    },
    {
      "cell_type": "code",
      "execution_count": 12,
      "metadata": {
        "collapsed": true,
        "id": "B3AWw6OyQHAM"
      },
      "outputs": [],
      "source": [
        "pred = model.predict(x_test)"
      ]
    },
    {
      "cell_type": "code",
      "execution_count": 14,
      "metadata": {
        "colab": {
          "base_uri": "https://localhost:8080/"
        },
        "id": "uiYbnd6qQHAN",
        "outputId": "e5d63697-445b-4233-af0e-3e13f848b568"
      },
      "outputs": [
        {
          "output_type": "stream",
          "name": "stdout",
          "text": [
            "Предсказанная стоимость: 18.644764 , правильная стоимость: 18.8\n",
            "Предсказанная стоимость: 22.962479 , правильная стоимость: 23.0\n",
            "Предсказанная стоимость: 34.97938 , правильная стоимость: 35.4\n",
            "Предсказанная стоимость: 18.620983 , правильная стоимость: 18.9\n",
            "Предсказанная стоимость: 27.868492 , правильная стоимость: 26.7\n"
          ]
        }
      ],
      "source": [
        "print(\"Предсказанная стоимость:\", pred[1][0], \", правильная стоимость:\", y_test[1])\n",
        "print(\"Предсказанная стоимость:\", pred[25][0], \", правильная стоимость:\", y_test[25])\n",
        "print(\"Предсказанная стоимость:\", pred[50][0], \", правильная стоимость:\", y_test[50])\n",
        "print(\"Предсказанная стоимость:\", pred[75][0], \", правильная стоимость:\", y_test[75])\n",
        "print(\"Предсказанная стоимость:\", pred[100][0], \", правильная стоимость:\", y_test[100])"
      ]
    }
  ],
  "metadata": {
    "kernelspec": {
      "display_name": "Python 3",
      "language": "python",
      "name": "python3"
    },
    "language_info": {
      "codemirror_mode": {
        "name": "ipython",
        "version": 3
      },
      "file_extension": ".py",
      "mimetype": "text/x-python",
      "name": "python",
      "nbconvert_exporter": "python",
      "pygments_lexer": "ipython3",
      "version": "3.6.1"
    },
    "colab": {
      "name": "regression_boston_example.ipynb",
      "provenance": [],
      "collapsed_sections": [],
      "include_colab_link": true
    }
  },
  "nbformat": 4,
  "nbformat_minor": 0
}