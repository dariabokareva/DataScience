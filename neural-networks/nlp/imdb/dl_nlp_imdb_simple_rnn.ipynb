{
  "nbformat": 4,
  "nbformat_minor": 0,
  "metadata": {
    "colab": {
      "name": "dl_nlp_imdb_simple_rnn.ipynb",
      "provenance": [],
      "include_colab_link": true
    },
    "kernelspec": {
      "name": "python3",
      "display_name": "Python 3"
    },
    "accelerator": "GPU"
  },
  "cells": [
    {
      "cell_type": "markdown",
      "metadata": {
        "id": "view-in-github",
        "colab_type": "text"
      },
      "source": [
        "<a href=\"https://colab.research.google.com/github/dariabokareva/datascience/blob/master/neural-networks/nlp/imdb/dl_nlp_imdb_simple_rnn.ipynb\" target=\"_parent\"><img src=\"https://colab.research.google.com/assets/colab-badge.svg\" alt=\"Open In Colab\"/></a>"
      ]
    },
    {
      "cell_type": "markdown",
      "metadata": {
        "id": "Lv1nORvnYVQn"
      },
      "source": [
        "## Определение тональности текста отзывов на фильмы IMDB с помощью рекуррентной нейронной сети"
      ]
    },
    {
      "cell_type": "code",
      "metadata": {
        "id": "lpsyhVlJX5XH"
      },
      "source": [
        "%tensorflow_version 2.x\n",
        "from tensorflow.keras.datasets import imdb\n",
        "from tensorflow.keras.models import Sequential\n",
        "from tensorflow.keras.layers import Dense, Embedding, SimpleRNN \n",
        "from tensorflow.keras import utils\n",
        "from tensorflow.keras.preprocessing.sequence import pad_sequences\n",
        "import numpy as np\n",
        "import matplotlib.pyplot as plt\n",
        "%matplotlib inline "
      ],
      "execution_count": 1,
      "outputs": []
    },
    {
      "cell_type": "markdown",
      "metadata": {
        "id": "xGDJkdINNWVh"
      },
      "source": [
        "## Загружаем данные"
      ]
    },
    {
      "cell_type": "code",
      "metadata": {
        "id": "kBUUyZ4cbxoM"
      },
      "source": [
        "max_words=10000"
      ],
      "execution_count": 2,
      "outputs": []
    },
    {
      "cell_type": "code",
      "metadata": {
        "id": "toRj2Xs1NZgB",
        "outputId": "df56a976-eaf0-4448-cfe1-6ecce43faee5",
        "colab": {
          "base_uri": "https://localhost:8080/"
        }
      },
      "source": [
        "(x_train, y_train), (x_test, y_test) = imdb.load_data(num_words=max_words)"
      ],
      "execution_count": 3,
      "outputs": [
        {
          "output_type": "stream",
          "name": "stdout",
          "text": [
            "Downloading data from https://storage.googleapis.com/tensorflow/tf-keras-datasets/imdb.npz\n",
            "17465344/17464789 [==============================] - 0s 0us/step\n",
            "17473536/17464789 [==============================] - 0s 0us/step\n"
          ]
        }
      ]
    },
    {
      "cell_type": "markdown",
      "metadata": {
        "id": "kiA7X0oWaS9Z"
      },
      "source": [
        "## Подготовка данных для обучения"
      ]
    },
    {
      "cell_type": "code",
      "metadata": {
        "id": "PiZZxRZhMVWv"
      },
      "source": [
        "maxlen = 200"
      ],
      "execution_count": 4,
      "outputs": []
    },
    {
      "cell_type": "code",
      "metadata": {
        "id": "0YrjnapvMVwf"
      },
      "source": [
        "x_train = pad_sequences(x_train, maxlen=maxlen)\n",
        "x_test = pad_sequences(x_test, maxlen=maxlen)"
      ],
      "execution_count": 5,
      "outputs": []
    },
    {
      "cell_type": "code",
      "metadata": {
        "id": "SnANlxwYMcNX",
        "outputId": "34c122af-0f78-4bd1-a518-50e22f765a73",
        "colab": {
          "base_uri": "https://localhost:8080/"
        }
      },
      "source": [
        "x_train[5002]"
      ],
      "execution_count": 6,
      "outputs": [
        {
          "output_type": "execute_result",
          "data": {
            "text/plain": [
              "array([   0,    0,    0,    0,    0,    0,    0,    0,    0,    0,    0,\n",
              "          0,    0,    0,    0,    0,    0,    0,    0,    0,    0,    0,\n",
              "          0,    0,    0,    0,    0,    0,    0,    0,    0,    0,    0,\n",
              "          0,    0,    0,    0,    0,    0,    0,    0,    0,    0,    0,\n",
              "          0,    0,    0,    0,    0,    0,    0,    0,    0,    0,    0,\n",
              "          0,    0,    0,    0,    0,    0,    0,    0,    0,    0,    0,\n",
              "          0,    0,    0,    1,  103,   51,   13,  197,   16,    6, 4796,\n",
              "        239,    7,  107,  555,   11,  132,   39, 8921, 1872,  138,   16,\n",
              "       4093, 1768, 2959,   34, 1620,    2,   11,    4,  755,   12,   43,\n",
              "        286,    4,  172,  209,    2,    5, 5938,   17, 1000,   34, 1768,\n",
              "        279,   29, 3892,   89,  338,    4,  114,   16, 1240, 1747,  103,\n",
              "       3844, 3819,    8,  169, 2875,  112, 7062,   34,  160,  132,   29,\n",
              "        100,   24,  535,  101,  250,    8,  858,   15,  196,   19,   57,\n",
              "       3154,   39,   90,    5,   24,  169, 3533,   18,    6,  910,   20,\n",
              "         14, 1367, 3939, 1101,  935,    4,  545, 1744,  173,   54, 1240,\n",
              "       2875,    2,   56,  209,  112, 1021,   55,  835,  179,   35, 2384,\n",
              "          8,  529, 1663, 1793,    8, 1066,    7,   61,  223,  637, 1231,\n",
              "         19,    4,   86,   31,    5,  353,    8,  859,   13,  126,  219,\n",
              "          4,  755], dtype=int32)"
            ]
          },
          "metadata": {},
          "execution_count": 6
        }
      ]
    },
    {
      "cell_type": "markdown",
      "metadata": {
        "id": "rhSLT9WjTeMk"
      },
      "source": [
        "## Создание нейронной сети"
      ]
    },
    {
      "cell_type": "code",
      "metadata": {
        "id": "Lrzx1e4xTgzL"
      },
      "source": [
        "model = Sequential()\n",
        "model.add(Embedding(max_words, 2, input_length=maxlen))\n",
        "model.add(SimpleRNN(8))\n",
        "model.add(Dense(1, activation='sigmoid'))"
      ],
      "execution_count": 7,
      "outputs": []
    },
    {
      "cell_type": "code",
      "metadata": {
        "id": "u1yNam-uSunE"
      },
      "source": [
        "model.compile(optimizer='rmsprop', \n",
        "              loss='binary_crossentropy', \n",
        "              metrics=['accuracy'])"
      ],
      "execution_count": 8,
      "outputs": []
    },
    {
      "cell_type": "markdown",
      "metadata": {
        "id": "9CHZwMttYMTb"
      },
      "source": [
        "## Обучаем нейронную сеть"
      ]
    },
    {
      "cell_type": "code",
      "metadata": {
        "id": "AkmNH7ahYLyc",
        "outputId": "9a50069e-b860-4efb-d2b5-af53e3b6f623",
        "colab": {
          "base_uri": "https://localhost:8080/"
        }
      },
      "source": [
        "history = model.fit(x_train, \n",
        "                    y_train, \n",
        "                    epochs=15,\n",
        "                    batch_size=128,\n",
        "                    validation_split=0.1)"
      ],
      "execution_count": 9,
      "outputs": [
        {
          "output_type": "stream",
          "name": "stdout",
          "text": [
            "Epoch 1/15\n",
            "176/176 [==============================] - 34s 172ms/step - loss: 0.6918 - accuracy: 0.5245 - val_loss: 0.6892 - val_accuracy: 0.5388\n",
            "Epoch 2/15\n",
            "176/176 [==============================] - 31s 176ms/step - loss: 0.6411 - accuracy: 0.6657 - val_loss: 0.5956 - val_accuracy: 0.7144\n",
            "Epoch 3/15\n",
            "176/176 [==============================] - 31s 174ms/step - loss: 0.4708 - accuracy: 0.8180 - val_loss: 0.4353 - val_accuracy: 0.8196\n",
            "Epoch 4/15\n",
            "176/176 [==============================] - 31s 173ms/step - loss: 0.3612 - accuracy: 0.8628 - val_loss: 0.3730 - val_accuracy: 0.8488\n",
            "Epoch 5/15\n",
            "176/176 [==============================] - 31s 176ms/step - loss: 0.2994 - accuracy: 0.8871 - val_loss: 0.3454 - val_accuracy: 0.8580\n",
            "Epoch 6/15\n",
            "176/176 [==============================] - 30s 172ms/step - loss: 0.2632 - accuracy: 0.9024 - val_loss: 0.3319 - val_accuracy: 0.8628\n",
            "Epoch 7/15\n",
            "176/176 [==============================] - 30s 172ms/step - loss: 0.2337 - accuracy: 0.9155 - val_loss: 0.3662 - val_accuracy: 0.8604\n",
            "Epoch 8/15\n",
            "176/176 [==============================] - 31s 174ms/step - loss: 0.2139 - accuracy: 0.9223 - val_loss: 0.3437 - val_accuracy: 0.8596\n",
            "Epoch 9/15\n",
            "176/176 [==============================] - 30s 170ms/step - loss: 0.1971 - accuracy: 0.9291 - val_loss: 0.4399 - val_accuracy: 0.8512\n",
            "Epoch 10/15\n",
            "176/176 [==============================] - 30s 170ms/step - loss: 0.1805 - accuracy: 0.9366 - val_loss: 0.3640 - val_accuracy: 0.8616\n",
            "Epoch 11/15\n",
            "176/176 [==============================] - 31s 174ms/step - loss: 0.1666 - accuracy: 0.9405 - val_loss: 0.3456 - val_accuracy: 0.8700\n",
            "Epoch 12/15\n",
            "176/176 [==============================] - 30s 171ms/step - loss: 0.1556 - accuracy: 0.9452 - val_loss: 0.4289 - val_accuracy: 0.8560\n",
            "Epoch 13/15\n",
            "176/176 [==============================] - 30s 171ms/step - loss: 0.1457 - accuracy: 0.9493 - val_loss: 0.3818 - val_accuracy: 0.8672\n",
            "Epoch 14/15\n",
            "176/176 [==============================] - 31s 177ms/step - loss: 0.1384 - accuracy: 0.9529 - val_loss: 0.3752 - val_accuracy: 0.8692\n",
            "Epoch 15/15\n",
            "176/176 [==============================] - 30s 172ms/step - loss: 0.1291 - accuracy: 0.9550 - val_loss: 0.3740 - val_accuracy: 0.8424\n"
          ]
        }
      ]
    },
    {
      "cell_type": "code",
      "metadata": {
        "id": "a19UCeAMDhQK",
        "outputId": "3b2b5233-88d3-49bb-dcb0-00d47c71a90b",
        "colab": {
          "base_uri": "https://localhost:8080/",
          "height": 279
        }
      },
      "source": [
        "plt.plot(history.history['accuracy'], \n",
        "         label='Доля верных ответов на обучающем наборе')\n",
        "plt.plot(history.history['val_accuracy'], \n",
        "         label='Доля верных ответов на проверочном наборе')\n",
        "plt.xlabel('Эпоха обучения')\n",
        "plt.ylabel('Доля верных ответов')\n",
        "plt.legend()\n",
        "plt.show()"
      ],
      "execution_count": 10,
      "outputs": [
        {
          "output_type": "display_data",
          "data": {
            "text/plain": [
              "<Figure size 432x288 with 1 Axes>"
            ],
            "image/png": "[encoded data removed]"
          },
          "metadata": {
            "needs_background": "light"
          }
        }
      ]
    },
    {
      "cell_type": "markdown",
      "metadata": {
        "id": "HnnIy3JlEGqW"
      },
      "source": [
        "## Проверяем работу сети на тестовом наборе данных"
      ]
    },
    {
      "cell_type": "code",
      "metadata": {
        "id": "J1_ilV14EKBO",
        "outputId": "405f3e69-2b7c-4bb7-b76a-c030b1a4cf3e",
        "colab": {
          "base_uri": "https://localhost:8080/"
        }
      },
      "source": [
        "scores = model.evaluate(x_test, y_test, verbose=1)"
      ],
      "execution_count": 11,
      "outputs": [
        {
          "output_type": "stream",
          "name": "stdout",
          "text": [
            "782/782 [==============================] - 13s 17ms/step - loss: 0.3939 - accuracy: 0.8389\n"
          ]
        }
      ]
    }
  ]
}