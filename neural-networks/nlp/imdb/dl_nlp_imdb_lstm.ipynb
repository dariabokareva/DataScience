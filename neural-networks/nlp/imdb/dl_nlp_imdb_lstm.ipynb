{
  "nbformat": 4,
  "nbformat_minor": 0,
  "metadata": {
    "colab": {
      "name": "dl_nlp_imdb_lstm.ipynb",
      "provenance": [],
      "include_colab_link": true
    },
    "kernelspec": {
      "name": "python3",
      "display_name": "Python 3"
    },
    "accelerator": "GPU",
    "gpuClass": "standard"
  },
  "cells": [
    {
      "cell_type": "markdown",
      "metadata": {
        "id": "view-in-github",
        "colab_type": "text"
      },
      "source": [
        "<a href=\"https://colab.research.google.com/github/dariabokareva/datascience/blob/master/neural-networks/nlp/imdb/dl_nlp_imdb_lstm.ipynb\" target=\"_parent\"><img src=\"https://colab.research.google.com/assets/colab-badge.svg\" alt=\"Open In Colab\"/></a>"
      ]
    },
    {
      "cell_type": "markdown",
      "metadata": {
        "id": "Lv1nORvnYVQn"
      },
      "source": [
        "## Определение тональности текста отзывов на фильмы IMDB с помощью сети LSTM"
      ]
    },
    {
      "cell_type": "code",
      "metadata": {
        "id": "lpsyhVlJX5XH"
      },
      "source": [
        "%tensorflow_version 2.x\n",
        "from tensorflow.keras.datasets import imdb\n",
        "from tensorflow.keras.models import Sequential\n",
        "from tensorflow.keras.layers import Dense, Embedding, LSTM \n",
        "from tensorflow.keras import utils\n",
        "from tensorflow.keras.preprocessing.sequence import pad_sequences\n",
        "import numpy as np\n",
        "import matplotlib.pyplot as plt\n",
        "%matplotlib inline "
      ],
      "execution_count": 1,
      "outputs": []
    },
    {
      "cell_type": "markdown",
      "metadata": {
        "id": "xGDJkdINNWVh"
      },
      "source": [
        "## Загружаем данные"
      ]
    },
    {
      "cell_type": "code",
      "metadata": {
        "id": "kBUUyZ4cbxoM"
      },
      "source": [
        "max_words=10000"
      ],
      "execution_count": 2,
      "outputs": []
    },
    {
      "cell_type": "code",
      "metadata": {
        "id": "toRj2Xs1NZgB",
        "colab": {
          "base_uri": "https://localhost:8080/"
        },
        "outputId": "98a53d22-f6b2-43b1-f7eb-775b47e49bf9"
      },
      "source": [
        "(x_train, y_train), (x_test, y_test) = imdb.load_data(num_words=max_words)"
      ],
      "execution_count": 3,
      "outputs": [
        {
          "output_type": "stream",
          "name": "stdout",
          "text": [
            "Downloading data from https://storage.googleapis.com/tensorflow/tf-keras-datasets/imdb.npz\n",
            "17465344/17464789 [==============================] - 1s 0us/step\n",
            "17473536/17464789 [==============================] - 1s 0us/step\n"
          ]
        }
      ]
    },
    {
      "cell_type": "markdown",
      "metadata": {
        "id": "kiA7X0oWaS9Z"
      },
      "source": [
        "## Подготовка данных для обучения"
      ]
    },
    {
      "cell_type": "code",
      "metadata": {
        "id": "PiZZxRZhMVWv"
      },
      "source": [
        "maxlen = 200"
      ],
      "execution_count": 4,
      "outputs": []
    },
    {
      "cell_type": "code",
      "metadata": {
        "id": "0YrjnapvMVwf"
      },
      "source": [
        "x_train = pad_sequences(x_train, maxlen=maxlen)\n",
        "x_test = pad_sequences(x_test, maxlen=maxlen)"
      ],
      "execution_count": 5,
      "outputs": []
    },
    {
      "cell_type": "code",
      "metadata": {
        "id": "SnANlxwYMcNX",
        "outputId": "2dd71262-0628-4414-8d49-f55703a96646",
        "colab": {
          "base_uri": "https://localhost:8080/"
        }
      },
      "source": [
        "x_train[5000]"
      ],
      "execution_count": 7,
      "outputs": [
        {
          "output_type": "execute_result",
          "data": {
            "text/plain": [
              "array([   0,    0,    0,    0,    0,    0,    0,    0,    0,    0,    0,\n",
              "          0,    0,    0,    0,    0,    0,    0,    0,    0,    0,    0,\n",
              "          0,    0,    0,    0,    0,    0,    0,    0,    0,    0,    0,\n",
              "          0,    0,    0,    0,    0,    0,    0,    0,    0,    0,    0,\n",
              "          0,    0,    0,    0,    0,    0,    0,    0,    0,    0,    0,\n",
              "          0,    0,    0,    0,    0,    0,    0,    0,    0,    0,    0,\n",
              "          0,    0,    0,    0,    0,    0,    0,    0,    0,    0,    1,\n",
              "         13,  104,   14, 2856,   77,    6,  542,   20,    5,   49,    7,\n",
              "         94,  531,   26,  608,   21,   11,  226,   45,    6,  503,   20,\n",
              "        172,   44,    4,  114,  531,   26,  608,   21,   12,   47,  450,\n",
              "       1512,    5,    2,   15,  152,  179,  763,   56,  116,    9,  669,\n",
              "        608,  207,  110,  433,    7,   14,   99,   10,   10,    4,  454,\n",
              "        732,    4,  651,   19, 1880, 1953,   11,    4, 2092,  231,  646,\n",
              "         21,  484, 1744, 2980,  143,   49,  392,    2,   11,  550, 1270,\n",
              "        646,   40,    4, 9331,   69,  115,  110, 6439,  159,   12,  214,\n",
              "       1076,  128,   39,   50,   21,   24,   76,   10,   10,   48,  335,\n",
              "       2146,  851,   14,   79,  160,   31,   99,    5,  361,   14,   31,\n",
              "         17,    6, 2272,   56,  401, 1398,  364,    5,   12,  238,  157,\n",
              "         18,   25], dtype=int32)"
            ]
          },
          "metadata": {},
          "execution_count": 7
        }
      ]
    },
    {
      "cell_type": "markdown",
      "metadata": {
        "id": "rhSLT9WjTeMk"
      },
      "source": [
        "## Создание нейронной сети"
      ]
    },
    {
      "cell_type": "code",
      "metadata": {
        "id": "Lrzx1e4xTgzL"
      },
      "source": [
        "model = Sequential()\n",
        "model.add(Embedding(max_words, 16, input_length=maxlen))\n",
        "# model.add(LSTM(32, return_sequences=True)) # recurrent_dropout = 0.2))\n",
        "model.add(LSTM(32))\n",
        "model.add(Dense(1, activation='sigmoid'))"
      ],
      "execution_count": 33,
      "outputs": []
    },
    {
      "cell_type": "code",
      "metadata": {
        "id": "u1yNam-uSunE"
      },
      "source": [
        "model.compile(optimizer='adam', \n",
        "              loss='binary_crossentropy', \n",
        "              metrics=['accuracy'])"
      ],
      "execution_count": 34,
      "outputs": []
    },
    {
      "cell_type": "markdown",
      "metadata": {
        "id": "9CHZwMttYMTb"
      },
      "source": [
        "## Обучаем нейронную сеть"
      ]
    },
    {
      "cell_type": "code",
      "metadata": {
        "id": "AkmNH7ahYLyc",
        "outputId": "cf3ba14d-d563-4773-b1a9-4cbf70a48f69",
        "colab": {
          "base_uri": "https://localhost:8080/"
        }
      },
      "source": [
        "history = model.fit(x_train, \n",
        "                    y_train, \n",
        "                    epochs=15,\n",
        "                    batch_size=128,\n",
        "                    validation_split=0.1)"
      ],
      "execution_count": 35,
      "outputs": [
        {
          "output_type": "stream",
          "name": "stdout",
          "text": [
            "Epoch 1/15\n",
            "176/176 [==============================] - 29s 13ms/step - loss: 0.5119 - accuracy: 0.7451 - val_loss: 0.3492 - val_accuracy: 0.8588\n",
            "Epoch 2/15\n",
            "176/176 [==============================] - 2s 11ms/step - loss: 0.2633 - accuracy: 0.8984 - val_loss: 0.3143 - val_accuracy: 0.8728\n",
            "Epoch 3/15\n",
            "176/176 [==============================] - 2s 10ms/step - loss: 0.1961 - accuracy: 0.9277 - val_loss: 0.3241 - val_accuracy: 0.8780\n",
            "Epoch 4/15\n",
            "176/176 [==============================] - 2s 11ms/step - loss: 0.1603 - accuracy: 0.9422 - val_loss: 0.3280 - val_accuracy: 0.8704\n",
            "Epoch 5/15\n",
            "176/176 [==============================] - 2s 10ms/step - loss: 0.1281 - accuracy: 0.9560 - val_loss: 0.3764 - val_accuracy: 0.8616\n",
            "Epoch 6/15\n",
            "176/176 [==============================] - 2s 11ms/step - loss: 0.1106 - accuracy: 0.9636 - val_loss: 0.4006 - val_accuracy: 0.8668\n",
            "Epoch 7/15\n",
            "176/176 [==============================] - 2s 10ms/step - loss: 0.0870 - accuracy: 0.9731 - val_loss: 0.4268 - val_accuracy: 0.8648\n",
            "Epoch 8/15\n",
            "176/176 [==============================] - 2s 10ms/step - loss: 0.0691 - accuracy: 0.9802 - val_loss: 0.4740 - val_accuracy: 0.8640\n",
            "Epoch 9/15\n",
            "176/176 [==============================] - 2s 11ms/step - loss: 0.0536 - accuracy: 0.9860 - val_loss: 0.5319 - val_accuracy: 0.8660\n",
            "Epoch 10/15\n",
            "176/176 [==============================] - 3s 14ms/step - loss: 0.0492 - accuracy: 0.9867 - val_loss: 0.5933 - val_accuracy: 0.8596\n",
            "Epoch 11/15\n",
            "176/176 [==============================] - 2s 11ms/step - loss: 0.0632 - accuracy: 0.9800 - val_loss: 0.5871 - val_accuracy: 0.8608\n",
            "Epoch 12/15\n",
            "176/176 [==============================] - 2s 11ms/step - loss: 0.0605 - accuracy: 0.9809 - val_loss: 0.5096 - val_accuracy: 0.8616\n",
            "Epoch 13/15\n",
            "176/176 [==============================] - 2s 11ms/step - loss: 0.0501 - accuracy: 0.9844 - val_loss: 0.5725 - val_accuracy: 0.8440\n",
            "Epoch 14/15\n",
            "176/176 [==============================] - 2s 11ms/step - loss: 0.0451 - accuracy: 0.9867 - val_loss: 0.6024 - val_accuracy: 0.8536\n",
            "Epoch 15/15\n",
            "176/176 [==============================] - 2s 10ms/step - loss: 0.0309 - accuracy: 0.9918 - val_loss: 0.5698 - val_accuracy: 0.8532\n"
          ]
        }
      ]
    },
    {
      "cell_type": "code",
      "metadata": {
        "id": "a19UCeAMDhQK",
        "outputId": "4f750c28-7408-4978-da6f-7e777405a49f",
        "colab": {
          "base_uri": "https://localhost:8080/",
          "height": 280
        }
      },
      "source": [
        "plt.plot(history.history['accuracy'], \n",
        "         label='Доля верных ответов на обучающем наборе')\n",
        "plt.plot(history.history['val_accuracy'], \n",
        "         label='Доля верных ответов на проверочном наборе')\n",
        "plt.xlabel('Эпоха обучения')\n",
        "plt.ylabel('Доля верных ответов')\n",
        "plt.legend()\n",
        "plt.show()"
      ],
      "execution_count": 36,
      "outputs": [
        {
          "output_type": "display_data",
          "data": {
            "text/plain": [
              "<Figure size 432x288 with 1 Axes>"
            ],
            "image/png": "[encoded data removed]"
          },
          "metadata": {
            "needs_background": "light"
          }
        }
      ]
    },
    {
      "cell_type": "markdown",
      "metadata": {
        "id": "HnnIy3JlEGqW"
      },
      "source": [
        "## Проверяем работу сети на тестовом наборе данных"
      ]
    },
    {
      "cell_type": "code",
      "metadata": {
        "id": "J1_ilV14EKBO",
        "outputId": "a1619399-7636-4001-c728-9df7f9be9c58",
        "colab": {
          "base_uri": "https://localhost:8080/"
        }
      },
      "source": [
        "scores = model.evaluate(x_test, y_test, verbose=1)"
      ],
      "execution_count": 37,
      "outputs": [
        {
          "output_type": "stream",
          "name": "stdout",
          "text": [
            "782/782 [==============================] - 4s 5ms/step - loss: 0.6248 - accuracy: 0.8386\n"
          ]
        }
      ]
    }
  ]
}