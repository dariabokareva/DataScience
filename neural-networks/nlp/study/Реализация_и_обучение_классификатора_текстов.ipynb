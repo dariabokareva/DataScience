{
  "nbformat": 4,
  "nbformat_minor": 0,
  "metadata": {
    "accelerator": "GPU",
    "colab": {
      "name": "Реализация и обучение классификатора текстов.ipynb",
      "provenance": [],
      "collapsed_sections": [],
      "include_colab_link": true
    },
    "kernelspec": {
      "name": "python3",
      "display_name": "Python 3"
    },
    "language_info": {
      "codemirror_mode": {
        "name": "ipython",
        "version": 3
      },
      "file_extension": ".py",
      "mimetype": "text/x-python",
      "name": "python",
      "nbconvert_exporter": "python",
      "pygments_lexer": "ipython3",
      "version": "3.7.1"
    }
  },
  "cells": [
    {
      "cell_type": "markdown",
      "metadata": {
        "id": "view-in-github",
        "colab_type": "text"
      },
      "source": [
        "<a href=\"https://colab.research.google.com/github/dariabokareva/datascience/blob/master/neural-networks/nlp/study/%D0%A0%D0%B5%D0%B0%D0%BB%D0%B8%D0%B7%D0%B0%D1%86%D0%B8%D1%8F_%D0%B8_%D0%BE%D0%B1%D1%83%D1%87%D0%B5%D0%BD%D0%B8%D0%B5_%D0%BA%D0%BB%D0%B0%D1%81%D1%81%D0%B8%D1%84%D0%B8%D0%BA%D0%B0%D1%82%D0%BE%D1%80%D0%B0_%D1%82%D0%B5%D0%BA%D1%81%D1%82%D0%BE%D0%B2.ipynb\" target=\"_parent\"><img src=\"https://colab.research.google.com/assets/colab-badge.svg\" alt=\"Open In Colab\"/></a>"
      ]
    },
    {
      "cell_type": "markdown",
      "metadata": {
        "id": "ZmZiFVcabyX1"
      },
      "source": [
        "#Реализация  и обучение классификатора текстов\n",
        "\n",
        "Рассмотрим реализацию классификатора текстов на примере классификации отзывов на фильмы (положительный или отрицательный). Для этого будем использовать классический датасет IMDB."
      ]
    },
    {
      "cell_type": "markdown",
      "metadata": {
        "id": "pu9Fy3R7b5cx"
      },
      "source": [
        "### Используем TensorFlow 2.0\n",
        "\n",
        "На момент подготовки этих материалов в Google Colab по умолчанию используется версия TensorFlow 1.X\n",
        "\n",
        "Переключаемся на версию 2.0 (работает только в Colab)"
      ]
    },
    {
      "cell_type": "code",
      "metadata": {
        "id": "cMnq-IQdUYef"
      },
      "source": [
        "%tensorflow_version 2.x"
      ],
      "execution_count": 1,
      "outputs": []
    },
    {
      "cell_type": "markdown",
      "metadata": {
        "id": "0zI3nDdteAqz"
      },
      "source": [
        "### Загрузка библиотек\n",
        "TensorFlow должен иметь как минимум версию 2.0"
      ]
    },
    {
      "cell_type": "code",
      "metadata": {
        "id": "2ew7HTbPpCJH",
        "colab": {
          "base_uri": "https://localhost:8080/"
        },
        "outputId": "310f0300-ea25-4545-fffb-3c68aa628413"
      },
      "source": [
        "import numpy as np\n",
        "import tensorflow as tf\n",
        "print(tf.__version__)\n",
        "\n",
        "import matplotlib.pyplot as plt\n",
        "%matplotlib inline"
      ],
      "execution_count": 2,
      "outputs": [
        {
          "output_type": "stream",
          "name": "stdout",
          "text": [
            "2.8.2\n"
          ]
        }
      ]
    },
    {
      "cell_type": "markdown",
      "metadata": {
        "id": "oH_vOZKxUUp_"
      },
      "source": [
        "### Загрузка датасета IMDB\n",
        "Загружаем датасет IMDB (обучающую и тестовую выборки). Во время загрузки датасета можно указать, какое подмножество словаря мы хотим использовать, указав `num_words=VOCAB_SIZE`, тогда останутся только самые частые слова.\n",
        "\n",
        "В датасете последовательности (предложения) уже представлены индексами слов."
      ]
    },
    {
      "cell_type": "code",
      "metadata": {
        "id": "zXXx5Oc3pOmN",
        "colab": {
          "base_uri": "https://localhost:8080/"
        },
        "outputId": "581bee36-4e9c-427a-b546-ef6c1539d33a"
      },
      "source": [
        "VOCAB_SIZE = 10000 # Количество слов в словаре\n",
        "\n",
        "(train_data, train_labels), (test_data, test_labels) = \\\n",
        "    tf.keras.datasets.imdb.load_data(num_words=VOCAB_SIZE)\n",
        "\n",
        "print(\"Training entries: {}\".format(len(train_data)))\n",
        "print('=====================================')\n",
        "print(\"Test entries: {}\".format(len(test_data)))\n",
        "print('=====================================')\n",
        "print(\"Length examples: {}\".format([len(train_data[0]), len(train_data[1])]))\n",
        "print('=====================================')\n",
        "print(\"Entry example: {}\".format(train_data[0]))"
      ],
      "execution_count": 3,
      "outputs": [
        {
          "output_type": "stream",
          "name": "stdout",
          "text": [
            "Downloading data from https://storage.googleapis.com/tensorflow/tf-keras-datasets/imdb.npz\n",
            "17465344/17464789 [==============================] - 0s 0us/step\n",
            "17473536/17464789 [==============================] - 0s 0us/step\n",
            "Training entries: 25000\n",
            "=====================================\n",
            "Test entries: 25000\n",
            "=====================================\n",
            "Length examples: [218, 189]\n",
            "=====================================\n",
            "Entry example: [1, 14, 22, 16, 43, 530, 973, 1622, 1385, 65, 458, 4468, 66, 3941, 4, 173, 36, 256, 5, 25, 100, 43, 838, 112, 50, 670, 2, 9, 35, 480, 284, 5, 150, 4, 172, 112, 167, 2, 336, 385, 39, 4, 172, 4536, 1111, 17, 546, 38, 13, 447, 4, 192, 50, 16, 6, 147, 2025, 19, 14, 22, 4, 1920, 4613, 469, 4, 22, 71, 87, 12, 16, 43, 530, 38, 76, 15, 13, 1247, 4, 22, 17, 515, 17, 12, 16, 626, 18, 2, 5, 62, 386, 12, 8, 316, 8, 106, 5, 4, 2223, 5244, 16, 480, 66, 3785, 33, 4, 130, 12, 16, 38, 619, 5, 25, 124, 51, 36, 135, 48, 25, 1415, 33, 6, 22, 12, 215, 28, 77, 52, 5, 14, 407, 16, 82, 2, 8, 4, 107, 117, 5952, 15, 256, 4, 2, 7, 3766, 5, 723, 36, 71, 43, 530, 476, 26, 400, 317, 46, 7, 4, 2, 1029, 13, 104, 88, 4, 381, 15, 297, 98, 32, 2071, 56, 26, 141, 6, 194, 7486, 18, 4, 226, 22, 21, 134, 476, 26, 480, 5, 144, 30, 5535, 18, 51, 36, 28, 224, 92, 25, 104, 4, 226, 65, 16, 38, 1334, 88, 12, 16, 283, 5, 16, 4472, 113, 103, 32, 15, 16, 5345, 19, 178, 32]\n"
          ]
        }
      ]
    },
    {
      "cell_type": "markdown",
      "metadata": {
        "id": "ddYa4j6cUfO8"
      },
      "source": [
        "### Создание функций decode_review и encode_review\n",
        "Создадим функции для конвертирования индексного представления отзыва в словесный (`decode_review`) и наоборот (`encode_review`).\n",
        "\n",
        "Функции будут используют словари `word2idx` и `idx2word` (отображение слова в индекс и индекса в слово)\n",
        "\n",
        "Кроме обычные слов в словаре будут содержаться специальные слова (токены): `<PAD>`, `<START>`, `<UNKNOWN>`\n"
      ]
    },
    {
      "cell_type": "code",
      "metadata": {
        "id": "tr5s_1alpzop",
        "colab": {
          "base_uri": "https://localhost:8080/"
        },
        "outputId": "e4041188-c676-4d8c-a9a5-24c21dd6143f"
      },
      "source": [
        "word_index = tf.keras.datasets.imdb.get_word_index()\n",
        "\n",
        "word_index = {k:(v+3) for k,v in word_index.items()} \n",
        "word_index[\"<PAD>\"] = 0\n",
        "word_index[\"<START>\"] = 1\n",
        "word_index[\"<UNKNOWN>\"] = 2\n",
        "\n",
        "reverse_word_index = dict([(value, key) for (key, value) in word_index.items()])\n",
        "\n",
        "# последовательность индексов в текст\n",
        "def decode_review(text):\n",
        "    return ' '.join([reverse_word_index.get(i, '?') for i in text])\n",
        "\n",
        "# текст в последовательность индексов\n",
        "def encode_review(text):\n",
        "    words = text.lower().split()\n",
        "    words = ['<START>'] + words\n",
        "    idxs = [word_index.get(word, word_index['<UNKNOWN>']) for word in words]\n",
        "    return idxs\n",
        "\n",
        "print('Example of a decoded review: \\n{}'.format(decode_review(train_data[0])))"
      ],
      "execution_count": 4,
      "outputs": [
        {
          "output_type": "stream",
          "name": "stdout",
          "text": [
            "Downloading data from https://storage.googleapis.com/tensorflow/tf-keras-datasets/imdb_word_index.json\n",
            "1646592/1641221 [==============================] - 0s 0us/step\n",
            "1654784/1641221 [==============================] - 0s 0us/step\n",
            "Example of a decoded review: \n",
            "<START> this film was just brilliant casting location scenery story direction everyone's really suited the part they played and you could just imagine being there robert <UNKNOWN> is an amazing actor and now the same being director <UNKNOWN> father came from the same scottish island as myself so i loved the fact there was a real connection with this film the witty remarks throughout the film were great it was just brilliant so much that i bought the film as soon as it was released for <UNKNOWN> and would recommend it to everyone to watch and the fly fishing was amazing really cried at the end it was so sad and you know what they say if you cry at a film it must have been good and this definitely was also <UNKNOWN> to the two little boy's that played the <UNKNOWN> of norman and paul they were just brilliant children are often left out of the <UNKNOWN> list i think because the stars that play them all grown up are such a big profile for the whole film but these children are amazing and should be praised for what they have done don't you think the whole story was so lovely because it was true and was someone's life after all that was shared with us all\n"
          ]
        }
      ]
    },
    {
      "cell_type": "markdown",
      "metadata": {
        "id": "5kijgd6JfPlo"
      },
      "source": [
        "### Проверка работы функций decode_review и encode_review\n",
        "Протестируем функции `decode_review` и `encode_review`"
      ]
    },
    {
      "cell_type": "code",
      "metadata": {
        "id": "MrfmGgiFUUqG",
        "colab": {
          "base_uri": "https://localhost:8080/"
        },
        "outputId": "15dbea5a-1e52-4c2c-f95b-f9345acd8512"
      },
      "source": [
        "text = 'hello world'\n",
        "\n",
        "print(encode_review(text))\n",
        "print(decode_review(encode_review(text)))"
      ],
      "execution_count": 5,
      "outputs": [
        {
          "output_type": "stream",
          "name": "stdout",
          "text": [
            "[1, 4825, 182]\n",
            "<START> hello world\n"
          ]
        }
      ]
    },
    {
      "cell_type": "markdown",
      "metadata": {
        "id": "gBnbaLQEUigW"
      },
      "source": [
        "### Приведение всех цепочек в датасете к одной длине с помощью паддинга\n",
        "Одна цепочка это один отзыв. А отзывы могут быть различной длины. \n",
        "\n",
        "Так как нам будет необходимо собирать из отзывов батчи (группы цепочек), удобно все отзывы привести к одной длине с помощью падинга в конце (добавлением элементов `<PAD>`)."
      ]
    },
    {
      "cell_type": "code",
      "metadata": {
        "id": "2jQv-omsHurp",
        "colab": {
          "base_uri": "https://localhost:8080/"
        },
        "outputId": "0cb5a3cb-ed44-4d6a-a1ad-af076d05b510"
      },
      "source": [
        "MAX_SEQ_LEN = 256 # Финальная длина последовательности\n",
        "\n",
        "train_data = tf.keras.preprocessing.sequence.pad_sequences(\n",
        "    train_data,\n",
        "    value=word_index[\"<PAD>\"],\n",
        "    padding='post',\n",
        "    maxlen=MAX_SEQ_LEN)\n",
        "\n",
        "test_data = tf.keras.preprocessing.sequence.pad_sequences(\n",
        "    test_data,\n",
        "    value=word_index[\"<PAD>\"],\n",
        "    padding='post',\n",
        "    maxlen=MAX_SEQ_LEN)\n",
        "\n",
        "print(\"Length examples: {}\".format([len(train_data[0]), len(train_data[1])]))\n",
        "print('=====================================')\n",
        "print(\"Entry example: {}\".format(train_data[0]))"
      ],
      "execution_count": 6,
      "outputs": [
        {
          "output_type": "stream",
          "name": "stdout",
          "text": [
            "Length examples: [256, 256]\n",
            "=====================================\n",
            "Entry example: [   1   14   22   16   43  530  973 1622 1385   65  458 4468   66 3941\n",
            "    4  173   36  256    5   25  100   43  838  112   50  670    2    9\n",
            "   35  480  284    5  150    4  172  112  167    2  336  385   39    4\n",
            "  172 4536 1111   17  546   38   13  447    4  192   50   16    6  147\n",
            " 2025   19   14   22    4 1920 4613  469    4   22   71   87   12   16\n",
            "   43  530   38   76   15   13 1247    4   22   17  515   17   12   16\n",
            "  626   18    2    5   62  386   12    8  316    8  106    5    4 2223\n",
            " 5244   16  480   66 3785   33    4  130   12   16   38  619    5   25\n",
            "  124   51   36  135   48   25 1415   33    6   22   12  215   28   77\n",
            "   52    5   14  407   16   82    2    8    4  107  117 5952   15  256\n",
            "    4    2    7 3766    5  723   36   71   43  530  476   26  400  317\n",
            "   46    7    4    2 1029   13  104   88    4  381   15  297   98   32\n",
            " 2071   56   26  141    6  194 7486   18    4  226   22   21  134  476\n",
            "   26  480    5  144   30 5535   18   51   36   28  224   92   25  104\n",
            "    4  226   65   16   38 1334   88   12   16  283    5   16 4472  113\n",
            "  103   32   15   16 5345   19  178   32    0    0    0    0    0    0\n",
            "    0    0    0    0    0    0    0    0    0    0    0    0    0    0\n",
            "    0    0    0    0    0    0    0    0    0    0    0    0    0    0\n",
            "    0    0    0    0]\n"
          ]
        }
      ]
    },
    {
      "cell_type": "markdown",
      "metadata": {
        "id": "3DFY3ibTUUqO"
      },
      "source": [
        "### Создание модели\n",
        "Создадим модель для бинарной классификации текстов.\n",
        "\n",
        "Здесь для простоты демонстрации будем использовать НЕ рекуррентную нейросеть, а обычную сеть прямого распространения. А после этого вам нужно будет использовать знания о рекуррентных сетях и применить их для решения той же задачи.\n",
        "\n",
        "Итак, давайте сначала воспользуемся сетью прямого распространения. Но такая нейросеть может обрабатывать лишь один входной объект (вектор), а у нас на входе последовательность векторов. Как можно перейти от последовательности к чему-то одному? \n",
        "\n",
        "Воспользуемся для этого слоем `GlobalAveragePooling1D`, который просто усреднит все вектора во входной последовательности и получит один выходной (промежуточный) вектор, который мы уже подадим на вход в полносвязную сеть. "
      ]
    },
    {
      "cell_type": "code",
      "metadata": {
        "id": "xpKOoWgu-llD",
        "colab": {
          "base_uri": "https://localhost:8080/"
        },
        "outputId": "97b01882-4685-4373-dbc6-2e456e0b4b50"
      },
      "source": [
        "EMB_SIZE = 16 # Размер векторного представления (эмбеддинга)\n",
        "    \n",
        "model = tf.keras.Sequential([\n",
        "    tf.keras.layers.Embedding(VOCAB_SIZE, 16),\n",
        "    tf.keras.layers.GlobalAveragePooling1D(),\n",
        "    tf.keras.layers.Dense(16, activation=tf.nn.relu),\n",
        "    tf.keras.layers.Dense(1, activation=tf.nn.sigmoid),\n",
        "])\n",
        "\n",
        "model.summary()"
      ],
      "execution_count": 7,
      "outputs": [
        {
          "output_type": "stream",
          "name": "stdout",
          "text": [
            "Model: \"sequential\"\n",
            "_________________________________________________________________\n",
            " Layer (type)                Output Shape              Param #   \n",
            "=================================================================\n",
            " embedding (Embedding)       (None, None, 16)          160000    \n",
            "                                                                 \n",
            " global_average_pooling1d (G  (None, 16)               0         \n",
            " lobalAveragePooling1D)                                          \n",
            "                                                                 \n",
            " dense (Dense)               (None, 16)                272       \n",
            "                                                                 \n",
            " dense_1 (Dense)             (None, 1)                 17        \n",
            "                                                                 \n",
            "=================================================================\n",
            "Total params: 160,289\n",
            "Trainable params: 160,289\n",
            "Non-trainable params: 0\n",
            "_________________________________________________________________\n"
          ]
        }
      ]
    },
    {
      "cell_type": "code",
      "source": [
        "EMB_SIZE = 16 # Размер векторного представления (эмбеддинга)\n",
        "    \n",
        "model = tf.keras.Sequential([\n",
        "    tf.keras.layers.Embedding(VOCAB_SIZE, 16),\n",
        "    # tf.keras.layers.LSTM(32, return_sequences=True), # recurrent_dropout=0.2),\n",
        "    tf.keras.layers.LSTM(32),\n",
        "    tf.keras.layers.Dense(1, activation=tf.nn.sigmoid),\n",
        "])\n",
        "\n",
        "model.summary()"
      ],
      "metadata": {
        "colab": {
          "base_uri": "https://localhost:8080/"
        },
        "id": "h68kq9xIQDxF",
        "outputId": "e5aba055-390d-47a7-91e5-45b7cebfa24e"
      },
      "execution_count": 51,
      "outputs": [
        {
          "output_type": "stream",
          "name": "stdout",
          "text": [
            "Model: \"sequential_6\"\n",
            "_________________________________________________________________\n",
            " Layer (type)                Output Shape              Param #   \n",
            "=================================================================\n",
            " embedding_6 (Embedding)     (None, None, 16)          160000    \n",
            "                                                                 \n",
            " lstm_8 (LSTM)               (None, 32)                6272      \n",
            "                                                                 \n",
            " dense_8 (Dense)             (None, 1)                 33        \n",
            "                                                                 \n",
            "=================================================================\n",
            "Total params: 166,305\n",
            "Trainable params: 166,305\n",
            "Non-trainable params: 0\n",
            "_________________________________________________________________\n"
          ]
        }
      ]
    },
    {
      "cell_type": "markdown",
      "metadata": {
        "id": "Q8J112EGUUqS"
      },
      "source": [
        "### Подготовка модели к обучению\n",
        "Далее мы будем обучать модель так же, как обычный классификатор."
      ]
    },
    {
      "cell_type": "code",
      "metadata": {
        "id": "Mr0GP-cQ-llN"
      },
      "source": [
        "model.compile(optimizer='adam',\n",
        "              loss='binary_crossentropy',\n",
        "              metrics=['acc'])"
      ],
      "execution_count": 52,
      "outputs": []
    },
    {
      "cell_type": "markdown",
      "metadata": {
        "id": "eTE1uIbSUUqV"
      },
      "source": [
        "### Разбиение обучающего датасета на обучающий и валидационный"
      ]
    },
    {
      "cell_type": "code",
      "metadata": {
        "id": "-NpcXY9--llS"
      },
      "source": [
        "x_val = train_data[:10000]\n",
        "partial_x_train = train_data[10000:]\n",
        "\n",
        "y_val = train_labels[:10000]\n",
        "partial_y_train = train_labels[10000:]"
      ],
      "execution_count": 53,
      "outputs": []
    },
    {
      "cell_type": "markdown",
      "metadata": {
        "id": "hFmKIMq0UUqY"
      },
      "source": [
        "### Обучение модели"
      ]
    },
    {
      "cell_type": "code",
      "metadata": {
        "id": "tXSGrjWZ-llW",
        "scrolled": false,
        "colab": {
          "base_uri": "https://localhost:8080/"
        },
        "outputId": "6344b146-de7d-4535-fecb-e00303cab0ad"
      },
      "source": [
        "BATCH_SIZE = 512\n",
        "NUM_EPOCHS = 15\n",
        "\n",
        "history = model.fit(partial_x_train,\n",
        "                    partial_y_train,\n",
        "                    epochs=NUM_EPOCHS,\n",
        "                    batch_size=BATCH_SIZE,\n",
        "                    validation_data=(x_val, y_val),\n",
        "                    verbose=1)"
      ],
      "execution_count": 54,
      "outputs": [
        {
          "output_type": "stream",
          "name": "stdout",
          "text": [
            "Epoch 1/15\n",
            "30/30 [==============================] - 3s 36ms/step - loss: 0.6927 - acc: 0.5189 - val_loss: 0.6920 - val_acc: 0.5089\n",
            "Epoch 2/15\n",
            "30/30 [==============================] - 1s 20ms/step - loss: 0.6764 - acc: 0.5747 - val_loss: 0.6222 - val_acc: 0.6108\n",
            "Epoch 3/15\n",
            "30/30 [==============================] - 1s 19ms/step - loss: 0.5660 - acc: 0.7363 - val_loss: 0.5210 - val_acc: 0.7818\n",
            "Epoch 4/15\n",
            "30/30 [==============================] - 1s 20ms/step - loss: 0.4355 - acc: 0.8323 - val_loss: 0.3789 - val_acc: 0.8443\n",
            "Epoch 5/15\n",
            "30/30 [==============================] - 1s 19ms/step - loss: 0.3205 - acc: 0.8826 - val_loss: 0.3976 - val_acc: 0.8560\n",
            "Epoch 6/15\n",
            "30/30 [==============================] - 1s 20ms/step - loss: 0.2459 - acc: 0.9183 - val_loss: 0.3276 - val_acc: 0.8760\n",
            "Epoch 7/15\n",
            "30/30 [==============================] - 1s 19ms/step - loss: 0.2026 - acc: 0.9367 - val_loss: 0.3252 - val_acc: 0.8764\n",
            "Epoch 8/15\n",
            "30/30 [==============================] - 1s 20ms/step - loss: 0.1641 - acc: 0.9528 - val_loss: 0.3876 - val_acc: 0.8689\n",
            "Epoch 9/15\n",
            "30/30 [==============================] - 1s 19ms/step - loss: 0.1476 - acc: 0.9591 - val_loss: 0.4151 - val_acc: 0.8618\n",
            "Epoch 10/15\n",
            "30/30 [==============================] - 1s 19ms/step - loss: 0.1475 - acc: 0.9619 - val_loss: 0.4768 - val_acc: 0.8613\n",
            "Epoch 11/15\n",
            "30/30 [==============================] - 1s 19ms/step - loss: 0.1257 - acc: 0.9673 - val_loss: 0.3735 - val_acc: 0.8730\n",
            "Epoch 12/15\n",
            "30/30 [==============================] - 1s 19ms/step - loss: 0.1364 - acc: 0.9645 - val_loss: 0.5668 - val_acc: 0.8492\n",
            "Epoch 13/15\n",
            "30/30 [==============================] - 1s 19ms/step - loss: 0.1274 - acc: 0.9676 - val_loss: 0.4413 - val_acc: 0.8661\n",
            "Epoch 14/15\n",
            "30/30 [==============================] - 1s 19ms/step - loss: 0.1089 - acc: 0.9747 - val_loss: 0.4318 - val_acc: 0.8603\n",
            "Epoch 15/15\n",
            "30/30 [==============================] - 1s 19ms/step - loss: 0.1184 - acc: 0.9712 - val_loss: 0.4868 - val_acc: 0.8583\n"
          ]
        }
      ]
    },
    {
      "cell_type": "markdown",
      "metadata": {
        "id": "eo3qpeqTUUqb"
      },
      "source": [
        "### Оценка качества на тестовом датасете"
      ]
    },
    {
      "cell_type": "code",
      "metadata": {
        "id": "zOMKywn4zReN",
        "colab": {
          "base_uri": "https://localhost:8080/"
        },
        "outputId": "fa2f4017-374d-43de-b023-1e21e3387e56"
      },
      "source": [
        "results = model.evaluate(test_data, test_labels)\n",
        "\n",
        "print('Test loss: {:.4f}'.format(results[0]))\n",
        "print('Test accuracy: {:.2f} %'.format(results[1]*100))"
      ],
      "execution_count": 55,
      "outputs": [
        {
          "output_type": "stream",
          "name": "stdout",
          "text": [
            "782/782 [==============================] - 4s 6ms/step - loss: 0.5478 - acc: 0.8410\n",
            "Test loss: 0.5478\n",
            "Test accuracy: 84.10 %\n"
          ]
        }
      ]
    },
    {
      "cell_type": "markdown",
      "metadata": {
        "id": "vEZH1SneWpPu"
      },
      "source": [
        "### Графики лосса и точности на обучающем и валидационном датасетах"
      ]
    },
    {
      "cell_type": "code",
      "metadata": {
        "id": "nGoYf2Js-lle",
        "scrolled": false,
        "colab": {
          "base_uri": "https://localhost:8080/",
          "height": 573
        },
        "outputId": "c8101147-2663-4ddc-b348-c2da1cbfc7a4"
      },
      "source": [
        "epochs = range(1, len(history.history['acc']) + 1)\n",
        "\n",
        "plt.figure()\n",
        "plt.plot(epochs, history.history['loss'], 'bo', label='Training loss')\n",
        "plt.plot(epochs, history.history['val_loss'], 'b', label='Validation loss')\n",
        "plt.title('Training and validation loss')\n",
        "plt.xlabel('Epochs')\n",
        "plt.ylabel('Loss')\n",
        "plt.legend()\n",
        "plt.grid()\n",
        "\n",
        "plt.figure()\n",
        "plt.plot(epochs, history.history['acc'], 'bo', label='Training acc')\n",
        "plt.plot(epochs, history.history['val_acc'], 'b', label='Validation acc')\n",
        "plt.title('Training and validation accuracy')\n",
        "plt.xlabel('Epochs')\n",
        "plt.ylabel('Accuracy')\n",
        "plt.legend()\n",
        "plt.grid()"
      ],
      "execution_count": 56,
      "outputs": [
        {
          "output_type": "display_data",
          "data": {
            "text/plain": [
              "<Figure size 432x288 with 1 Axes>"
            ],
            "image/png": "[encoded data removed]"
          },
          "metadata": {
            "needs_background": "light"
          }
        },
        {
          "output_type": "display_data",
          "data": {
            "text/plain": [
              "<Figure size 432x288 with 1 Axes>"
            ],
            "image/png": "[encoded data removed]"
          },
          "metadata": {
            "needs_background": "light"
          }
        }
      ]
    },
    {
      "cell_type": "markdown",
      "metadata": {
        "id": "zh3G6kIxW41a"
      },
      "source": [
        "### Тестирование обученной модели на новой последовательности\n",
        "\n",
        "Проверим работу модели на собственном отзыве.\n",
        "\n",
        "Напишем текст (отзыв), закодируем его в индексы с помощью `encode_review` и подадим на вход в нейронную сеть, приклеив батч-измерение. Выход из сети -- вероятность того, что отзыв положительный."
      ]
    },
    {
      "cell_type": "code",
      "metadata": {
        "id": "OCrqqoy4xFkp",
        "colab": {
          "base_uri": "https://localhost:8080/"
        },
        "outputId": "627d4fd4-118d-474d-a475-cd25c3c9e83c"
      },
      "source": [
        "text = 'It was a really good movie it was so fantastic'\n",
        "\n",
        "encoded = encode_review(text)\n",
        "prediction = model.predict(np.array(encoded)[None, :])[0,0]\n",
        "\n",
        "print(prediction)\n",
        "print('Positive' if prediction > 0.5 else 'Negative')"
      ],
      "execution_count": 57,
      "outputs": [
        {
          "output_type": "stream",
          "name": "stdout",
          "text": [
            "WARNING:tensorflow:5 out of the last 6 calls to <function Model.make_predict_function.<locals>.predict_function at 0x7f350b9b9ef0> triggered tf.function retracing. Tracing is expensive and the excessive number of tracings could be due to (1) creating @tf.function repeatedly in a loop, (2) passing tensors with different shapes, (3) passing Python objects instead of tensors. For (1), please define your @tf.function outside of the loop. For (2), @tf.function has experimental_relax_shapes=True option that relaxes argument shapes that can avoid unnecessary retracing. For (3), please refer to https://www.tensorflow.org/guide/function#controlling_retracing and https://www.tensorflow.org/api_docs/python/tf/function for  more details.\n",
            "0.55408174\n",
            "Positive\n"
          ]
        }
      ]
    },
    {
      "cell_type": "markdown",
      "metadata": {
        "id": "-r5RHF5cWwR8"
      },
      "source": [
        "В нашем решении выше мы воспользовались тем, что просто усреднили информацию обо всех словах и никак не использовали тот факт, что эти слова идут в определённой последовательности. То есть применение простых сетей прямого распространения может сработать для не очень сложных задач, где важны лишь какие-то ключевые слова, типа \"хороший фильм\" или \"плохой фильм\". Однако, как мы знаем, рекуррентные нейросети могут отслеживать закономерности в последовательностях и обладают намного более мощным потенциалом. "
      ]
    }
  ]
}